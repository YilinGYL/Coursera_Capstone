{
 "cells": [
  {
   "cell_type": "markdown",
   "metadata": {},
   "source": [
    "### Import Libraries"
   ]
  },
  {
   "cell_type": "code",
   "execution_count": 8,
   "metadata": {},
   "outputs": [
    {
     "name": "stdout",
     "output_type": "stream",
     "text": [
      "Libraries imported.\n"
     ]
    }
   ],
   "source": [
    "import numpy as np # library to handle data in a vectorized manner\n",
    "\n",
    "import pandas as pd # library for data analsysis\n",
    "pd.set_option('display.max_columns', None)\n",
    "pd.set_option('display.max_rows', None)\n",
    "\n",
    "import json # library to handle JSON files\n",
    "import csv # library to handle csv files\n",
    "\n",
    "# import geocoder as geocoder\n",
    "# from geopy.geocoders import Nominatim # convert an address into latitude and longitude values\n",
    "\n",
    "import requests # library to handle requests\n",
    "from pandas.io.json import json_normalize # tranform JSON file into a pandas dataframe\n",
    "\n",
    "# Matplotlib and associated plotting modules\n",
    "import matplotlib.cm as cm\n",
    "import matplotlib.colors as colors\n",
    "\n",
    "# import k-means from clustering stage\n",
    "from sklearn.cluster import KMeans\n",
    "\n",
    "# import folium # map rendering library\n",
    "\n",
    "from bs4 import BeautifulSoup\n",
    "import requests\n",
    "\n",
    "print('Libraries imported.')"
   ]
  },
  {
   "cell_type": "markdown",
   "metadata": {},
   "source": [
    "### 1. London neighbbourhood informatio - Scraping data from Wikipedia"
   ]
  },
  {
   "cell_type": "code",
   "execution_count": 4,
   "metadata": {},
   "outputs": [
    {
     "data": {
      "text/html": [
       "<div>\n",
       "<style>\n",
       "    .dataframe thead tr:only-child th {\n",
       "        text-align: right;\n",
       "    }\n",
       "\n",
       "    .dataframe thead th {\n",
       "        text-align: left;\n",
       "    }\n",
       "\n",
       "    .dataframe tbody tr th {\n",
       "        vertical-align: top;\n",
       "    }\n",
       "</style>\n",
       "<table border=\"1\" class=\"dataframe\">\n",
       "  <thead>\n",
       "    <tr style=\"text-align: right;\">\n",
       "      <th></th>\n",
       "      <th>Location</th>\n",
       "      <th>London_borough</th>\n",
       "      <th>Post town</th>\n",
       "      <th>Postcode district</th>\n",
       "      <th>Dial Code</th>\n",
       "      <th>OS grid ref</th>\n",
       "    </tr>\n",
       "  </thead>\n",
       "  <tbody>\n",
       "    <tr>\n",
       "      <th>1</th>\n",
       "      <td>Abbey Wood</td>\n",
       "      <td>Bexley, Greenwich [7]</td>\n",
       "      <td>LONDON</td>\n",
       "      <td>SE2</td>\n",
       "      <td>020</td>\n",
       "      <td>TQ465785</td>\n",
       "    </tr>\n",
       "    <tr>\n",
       "      <th>2</th>\n",
       "      <td>Acton</td>\n",
       "      <td>Ealing, Hammersmith and Fulham[8]</td>\n",
       "      <td>LONDON</td>\n",
       "      <td>W3, W4</td>\n",
       "      <td>020</td>\n",
       "      <td>TQ205805</td>\n",
       "    </tr>\n",
       "    <tr>\n",
       "      <th>3</th>\n",
       "      <td>Addington</td>\n",
       "      <td>Croydon[8]</td>\n",
       "      <td>CROYDON</td>\n",
       "      <td>CR0</td>\n",
       "      <td>020</td>\n",
       "      <td>TQ375645</td>\n",
       "    </tr>\n",
       "    <tr>\n",
       "      <th>4</th>\n",
       "      <td>Addiscombe</td>\n",
       "      <td>Croydon[8]</td>\n",
       "      <td>CROYDON</td>\n",
       "      <td>CR0</td>\n",
       "      <td>020</td>\n",
       "      <td>TQ345665</td>\n",
       "    </tr>\n",
       "    <tr>\n",
       "      <th>5</th>\n",
       "      <td>Albany Park</td>\n",
       "      <td>Bexley</td>\n",
       "      <td>BEXLEY, SIDCUP</td>\n",
       "      <td>DA5, DA14</td>\n",
       "      <td>020</td>\n",
       "      <td>TQ478728</td>\n",
       "    </tr>\n",
       "  </tbody>\n",
       "</table>\n",
       "</div>"
      ],
      "text/plain": [
       "      Location                     London_borough       Post town  \\\n",
       "1   Abbey Wood              Bexley, Greenwich [7]          LONDON   \n",
       "2        Acton  Ealing, Hammersmith and Fulham[8]          LONDON   \n",
       "3    Addington                         Croydon[8]         CROYDON   \n",
       "4   Addiscombe                         Croydon[8]         CROYDON   \n",
       "5  Albany Park                             Bexley  BEXLEY, SIDCUP   \n",
       "\n",
       "  Postcode district Dial Code OS grid ref  \n",
       "1               SE2       020    TQ465785  \n",
       "2            W3, W4       020    TQ205805  \n",
       "3               CR0       020    TQ375645  \n",
       "4               CR0       020    TQ345665  \n",
       "5         DA5, DA14       020    TQ478728  "
      ]
     },
     "execution_count": 4,
     "metadata": {},
     "output_type": "execute_result"
    }
   ],
   "source": [
    "dfs = pd.read_html('https://en.wikipedia.org/wiki/List_of_areas_of_London')\n",
    "raw = dfs[1]\n",
    "raw.head()\n",
    "\n",
    "df1 = raw.drop(raw.index[0])\n",
    "df1.columns = ['Location','London_borough','Post town','Postcode district','Dial Code','OS grid ref']\n",
    "df1.head()"
   ]
  },
  {
   "cell_type": "code",
   "execution_count": 5,
   "metadata": {},
   "outputs": [
    {
     "data": {
      "text/html": [
       "<div>\n",
       "<style>\n",
       "    .dataframe thead tr:only-child th {\n",
       "        text-align: right;\n",
       "    }\n",
       "\n",
       "    .dataframe thead th {\n",
       "        text-align: left;\n",
       "    }\n",
       "\n",
       "    .dataframe tbody tr th {\n",
       "        vertical-align: top;\n",
       "    }\n",
       "</style>\n",
       "<table border=\"1\" class=\"dataframe\">\n",
       "  <thead>\n",
       "    <tr style=\"text-align: right;\">\n",
       "      <th></th>\n",
       "      <th>Location</th>\n",
       "      <th>London_borough</th>\n",
       "      <th>Post town</th>\n",
       "      <th>Postcode district</th>\n",
       "    </tr>\n",
       "  </thead>\n",
       "  <tbody>\n",
       "    <tr>\n",
       "      <th>1</th>\n",
       "      <td>Abbey Wood</td>\n",
       "      <td>Bexley, Greenwich [7]</td>\n",
       "      <td>LONDON</td>\n",
       "      <td>SE2</td>\n",
       "    </tr>\n",
       "    <tr>\n",
       "      <th>2</th>\n",
       "      <td>Acton</td>\n",
       "      <td>Ealing, Hammersmith and Fulham[8]</td>\n",
       "      <td>LONDON</td>\n",
       "      <td>W3, W4</td>\n",
       "    </tr>\n",
       "    <tr>\n",
       "      <th>3</th>\n",
       "      <td>Addington</td>\n",
       "      <td>Croydon[8]</td>\n",
       "      <td>CROYDON</td>\n",
       "      <td>CR0</td>\n",
       "    </tr>\n",
       "    <tr>\n",
       "      <th>4</th>\n",
       "      <td>Addiscombe</td>\n",
       "      <td>Croydon[8]</td>\n",
       "      <td>CROYDON</td>\n",
       "      <td>CR0</td>\n",
       "    </tr>\n",
       "    <tr>\n",
       "      <th>5</th>\n",
       "      <td>Albany Park</td>\n",
       "      <td>Bexley</td>\n",
       "      <td>BEXLEY, SIDCUP</td>\n",
       "      <td>DA5, DA14</td>\n",
       "    </tr>\n",
       "  </tbody>\n",
       "</table>\n",
       "</div>"
      ],
      "text/plain": [
       "      Location                     London_borough       Post town  \\\n",
       "1   Abbey Wood              Bexley, Greenwich [7]          LONDON   \n",
       "2        Acton  Ealing, Hammersmith and Fulham[8]          LONDON   \n",
       "3    Addington                         Croydon[8]         CROYDON   \n",
       "4   Addiscombe                         Croydon[8]         CROYDON   \n",
       "5  Albany Park                             Bexley  BEXLEY, SIDCUP   \n",
       "\n",
       "  Postcode district  \n",
       "1               SE2  \n",
       "2            W3, W4  \n",
       "3               CR0  \n",
       "4               CR0  \n",
       "5         DA5, DA14  "
      ]
     },
     "execution_count": 5,
     "metadata": {},
     "output_type": "execute_result"
    }
   ],
   "source": [
    "# Drop the unnecessary information and clean data\n",
    "df = df1.drop(['Dial Code','OS grid ref'], axis = 1)\n",
    "df = df.reindex()\n",
    "df.head()"
   ]
  },
  {
   "cell_type": "code",
   "execution_count": 6,
   "metadata": {},
   "outputs": [
    {
     "data": {
      "text/plain": [
       "(533, 4)"
      ]
     },
     "execution_count": 6,
     "metadata": {},
     "output_type": "execute_result"
    }
   ],
   "source": [
    "df.shape"
   ]
  },
  {
   "cell_type": "markdown",
   "metadata": {},
   "source": [
    "get logitude and altitude of London Neighbourhood"
   ]
  },
  {
   "cell_type": "code",
   "execution_count": 13,
   "metadata": {
    "collapsed": true
   },
   "outputs": [],
   "source": [
    "def getLatLong(row):\n",
    "    #print('post :{}'.format(row[:]))\n",
    "    #print('neigh :{}'.format(row[1]))\n",
    "    # initialize your variable to None\n",
    "    lat_lng_coords = None\n",
    "    search_query = '{}, London,UK'.format(row)\n",
    "    # loop until you get the coordinates\n",
    "    try:\n",
    "        while(lat_lng_coords is None):\n",
    "            #g = geocoder.here(search_query,app_id=app_id,app_code=app_code)\n",
    "            g = geocoder.arcgis(search_query)\n",
    "            lat_lng_coords = g.latlng\n",
    "            #print('FIRST')\n",
    "    except IndexError:\n",
    "        latitude = 0.0\n",
    "        longitude = 0.0\n",
    "        print('BACKUP')\n",
    "        return [latitude,longitude]\n",
    "\n",
    "    latitude = lat_lng_coords[0]\n",
    "    longitude = lat_lng_coords[1]\n",
    "    print(latitude, longitude)\n",
    "    return [latitude, longitude]"
   ]
  },
  {
   "cell_type": "code",
   "execution_count": 15,
   "metadata": {},
   "outputs": [
    {
     "ename": "ModuleNotFoundError",
     "evalue": "No module named 'geocoder'",
     "output_type": "error",
     "traceback": [
      "\u001b[1;31m---------------------------------------------------------------------------\u001b[0m",
      "\u001b[1;31mModuleNotFoundError\u001b[0m                       Traceback (most recent call last)",
      "\u001b[1;32m<ipython-input-15-a344a832649f>\u001b[0m in \u001b[0;36m<module>\u001b[1;34m()\u001b[0m\n\u001b[1;32m----> 1\u001b[1;33m \u001b[1;32mimport\u001b[0m \u001b[0mgeocoder\u001b[0m \u001b[1;32mas\u001b[0m \u001b[0mgeocoder\u001b[0m\u001b[1;33m\u001b[0m\u001b[0m\n\u001b[0m\u001b[0;32m      2\u001b[0m \u001b[0mcoords_list\u001b[0m \u001b[1;33m=\u001b[0m \u001b[0mdf\u001b[0m\u001b[1;33m[\u001b[0m\u001b[1;34m'Postcode district'\u001b[0m\u001b[1;33m]\u001b[0m\u001b[1;33m.\u001b[0m\u001b[0mapply\u001b[0m\u001b[1;33m(\u001b[0m\u001b[0mgetLatLong\u001b[0m\u001b[1;33m)\u001b[0m\u001b[1;33m.\u001b[0m\u001b[0mtolist\u001b[0m\u001b[1;33m(\u001b[0m\u001b[1;33m)\u001b[0m\u001b[1;33m\u001b[0m\u001b[0m\n",
      "\u001b[1;31mModuleNotFoundError\u001b[0m: No module named 'geocoder'"
     ]
    }
   ],
   "source": [
    "import geocoder as geocoder\n",
    "coords_list = df['Postcode district'].apply(getLatLong).tolist()"
   ]
  },
  {
   "cell_type": "markdown",
   "metadata": {},
   "source": [
    "### 2. Must-visit places information - from one (or multiple) review article https://foursquare.com/gmissawa/list/places-to-visit-in-london"
   ]
  },
  {
   "cell_type": "code",
   "execution_count": 9,
   "metadata": {},
   "outputs": [],
   "source": [
    "#Get the data with beautifulsoup\n",
    "source = requests.get('https://foursquare.com/gmissawa/list/places-to-visit-in-london').text\n",
    "soup = BeautifulSoup(source,'lxml')\n",
    "#print(soup.prettify())"
   ]
  },
  {
   "cell_type": "code",
   "execution_count": 12,
   "metadata": {},
   "outputs": [
    {
     "name": "stdout",
     "output_type": "stream",
     "text": [
      "<div class=\"venueInfo\">\n",
      " <div class=\"name\">\n",
      "  <p class=\"venueName\">\n",
      "   <a aria-label=\"Link to Venue\" class=\"venueLink\" href=\"/v/elizabeth-tower-big-ben/4ac518cef964a520f6a520e3\" target=\"_blank\">\n",
      "    <span class=\"rank\">\n",
      "     1.\n",
      "    </span>\n",
      "    Big Ben (Elizabeth Tower)\n",
      "   </a>\n",
      "  </p>\n",
      "  <div class=\"rating\">\n",
      "   <span class=\"venueScore positive\" style=\"background-color: #00B551;\" title=\"9.3/10 - People like this place\">\n",
      "    <span>\n",
      "     9.3\n",
      "    </span>\n",
      "   </span>\n",
      "  </div>\n",
      "  <div class=\"meta\">\n",
      "   <span class=\"address\">\n",
      "    Parliament Sq (Bridge St), London, Greater London\n",
      "   </span>\n",
      "  </div>\n",
      "  <div class=\"meta adjusted\">\n",
      "   <span class=\"unlinkedCategory\">\n",
      "    Monument / Landmark\n",
      "   </span>\n",
      "   <span class=\"tipCount\">\n",
      "    · Westminster ·  662 tips and reviews\n",
      "   </span>\n",
      "  </div>\n",
      " </div>\n",
      "</div>\n",
      "\n"
     ]
    }
   ],
   "source": [
    "# Scraping the venue information\n",
    "match = soup.find('div', class_='venueInfo')\n",
    "#print(match.prettify())\n",
    "print(match.prettify())"
   ]
  },
  {
   "cell_type": "code",
   "execution_count": 197,
   "metadata": {
    "collapsed": true
   },
   "outputs": [],
   "source": [
    "# Scraping trial, to find all the information in the first entry\n",
    "# venue_name = match.find('p', class_ = 'venueName')\n",
    "# rating = match.find('div', class_ = 'rating')\n",
    "# category = match.find('span', class_ = \"unlinkedCategory\")\n",
    "\n",
    "# print (venue_name.text)\n",
    "# print(rating.text)\n",
    "# print(category.text)"
   ]
  },
  {
   "cell_type": "code",
   "execution_count": 211,
   "metadata": {
    "collapsed": true
   },
   "outputs": [],
   "source": [
    "# Save as csv\n",
    "csv_file = open('London_venue.csv','w')\n",
    "csv_writer = csv.writer(csv_file, lineterminator='\\n')\n",
    "csv_writer.writerow(['Venue Name', 'Category', 'Rating', 'Venue ID'])\n",
    "\n",
    "# Loop through all the venues and save the inforamtion into a list\n",
    "for match in soup.find_all('div', class_='venueInfo'):\n",
    "    \n",
    "    venue_name = match.find('p', class_ = 'venueName').text\n",
    "    category = match.find('span', class_ = \"unlinkedCategory\").text\n",
    "#     print (venue_name)\n",
    "#     print(category)\n",
    "    \n",
    "    try:\n",
    "        rating = match.find('div', class_ = 'rating').text\n",
    "#         print(rating)\n",
    "        venue_src = match.find('a')['href']\n",
    "        venue_id = venue_src.split('/')[3]\n",
    "#         print(venue_id)\n",
    "    except Exception as e:\n",
    "        rating = 'NaN'\n",
    "#         print('NaN')\n",
    "        veneue_id = 'NaN'\n",
    "    # Save as csv\n",
    "    csv_writer.writerow([venue_name, category, rating, venue_id])\n",
    "\n",
    "csv_file.close()\n"
   ]
  },
  {
   "cell_type": "code",
   "execution_count": 212,
   "metadata": {},
   "outputs": [
    {
     "data": {
      "text/html": [
       "<div>\n",
       "<style>\n",
       "    .dataframe thead tr:only-child th {\n",
       "        text-align: right;\n",
       "    }\n",
       "\n",
       "    .dataframe thead th {\n",
       "        text-align: left;\n",
       "    }\n",
       "\n",
       "    .dataframe tbody tr th {\n",
       "        vertical-align: top;\n",
       "    }\n",
       "</style>\n",
       "<table border=\"1\" class=\"dataframe\">\n",
       "  <thead>\n",
       "    <tr style=\"text-align: right;\">\n",
       "      <th></th>\n",
       "      <th>Venue Name</th>\n",
       "      <th>Category</th>\n",
       "      <th>Rating</th>\n",
       "      <th>Venue ID</th>\n",
       "    </tr>\n",
       "  </thead>\n",
       "  <tbody>\n",
       "    <tr>\n",
       "      <th>0</th>\n",
       "      <td>1. Big Ben (Elizabeth Tower)</td>\n",
       "      <td>Monument / Landmark</td>\n",
       "      <td>9.3</td>\n",
       "      <td>4ac518cef964a520f6a520e3</td>\n",
       "    </tr>\n",
       "    <tr>\n",
       "      <th>1</th>\n",
       "      <td>2. The London Eye</td>\n",
       "      <td>Scenic Lookout</td>\n",
       "      <td>9.2</td>\n",
       "      <td>4ac518cef964a52021a620e3</td>\n",
       "    </tr>\n",
       "    <tr>\n",
       "      <th>2</th>\n",
       "      <td>3. Trafalgar Square</td>\n",
       "      <td>Plaza</td>\n",
       "      <td>9.2</td>\n",
       "      <td>4ac518cef964a520f9a520e3</td>\n",
       "    </tr>\n",
       "    <tr>\n",
       "      <th>3</th>\n",
       "      <td>4. Tower of London</td>\n",
       "      <td>Castle</td>\n",
       "      <td>9.2</td>\n",
       "      <td>4ac518cef964a520f7a520e3</td>\n",
       "    </tr>\n",
       "    <tr>\n",
       "      <th>4</th>\n",
       "      <td>5. Westminster Abbey</td>\n",
       "      <td>Church</td>\n",
       "      <td>9.2</td>\n",
       "      <td>4ac518cdf964a520eea520e3</td>\n",
       "    </tr>\n",
       "  </tbody>\n",
       "</table>\n",
       "</div>"
      ],
      "text/plain": [
       "                     Venue Name             Category  Rating  \\\n",
       "0  1. Big Ben (Elizabeth Tower)  Monument / Landmark     9.3   \n",
       "1             2. The London Eye       Scenic Lookout     9.2   \n",
       "2           3. Trafalgar Square                Plaza     9.2   \n",
       "3            4. Tower of London               Castle     9.2   \n",
       "4          5. Westminster Abbey               Church     9.2   \n",
       "\n",
       "                   Venue ID  \n",
       "0  4ac518cef964a520f6a520e3  \n",
       "1  4ac518cef964a52021a620e3  \n",
       "2  4ac518cef964a520f9a520e3  \n",
       "3  4ac518cef964a520f7a520e3  \n",
       "4  4ac518cdf964a520eea520e3  "
      ]
     },
     "execution_count": 212,
     "metadata": {},
     "output_type": "execute_result"
    }
   ],
   "source": [
    "# Read csv file as pandas dataframe\n",
    "df_ln = pd.read_csv(\"London_venue.csv\", encoding = \"ISO-8859-1\")\n",
    "df_ln.head()"
   ]
  },
  {
   "cell_type": "code",
   "execution_count": 213,
   "metadata": {},
   "outputs": [
    {
     "data": {
      "text/plain": [
       "(136, 4)"
      ]
     },
     "execution_count": 213,
     "metadata": {},
     "output_type": "execute_result"
    }
   ],
   "source": [
    "df_ln.shape"
   ]
  },
  {
   "cell_type": "markdown",
   "metadata": {},
   "source": [
    "#### From Foursquare API, get the logitude and altitude according to VeneueID\n"
   ]
  },
  {
   "cell_type": "code",
   "execution_count": null,
   "metadata": {
    "collapsed": true
   },
   "outputs": [],
   "source": []
  },
  {
   "cell_type": "code",
   "execution_count": 61,
   "metadata": {
    "collapsed": true
   },
   "outputs": [],
   "source": []
  },
  {
   "cell_type": "code",
   "execution_count": null,
   "metadata": {
    "collapsed": true
   },
   "outputs": [],
   "source": []
  },
  {
   "cell_type": "code",
   "execution_count": null,
   "metadata": {
    "collapsed": true
   },
   "outputs": [],
   "source": []
  },
  {
   "cell_type": "code",
   "execution_count": null,
   "metadata": {
    "collapsed": true
   },
   "outputs": [],
   "source": []
  },
  {
   "cell_type": "code",
   "execution_count": null,
   "metadata": {
    "collapsed": true
   },
   "outputs": [],
   "source": []
  },
  {
   "cell_type": "code",
   "execution_count": null,
   "metadata": {
    "collapsed": true
   },
   "outputs": [],
   "source": []
  }
 ],
 "metadata": {
  "kernelspec": {
   "display_name": "Python 3",
   "language": "python",
   "name": "python3"
  },
  "language_info": {
   "codemirror_mode": {
    "name": "ipython",
    "version": 3
   },
   "file_extension": ".py",
   "mimetype": "text/x-python",
   "name": "python",
   "nbconvert_exporter": "python",
   "pygments_lexer": "ipython3",
   "version": "3.6.3"
  }
 },
 "nbformat": 4,
 "nbformat_minor": 2
}
