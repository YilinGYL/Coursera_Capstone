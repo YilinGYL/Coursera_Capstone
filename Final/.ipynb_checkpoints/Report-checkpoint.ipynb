{
 "cells": [
  {
   "cell_type": "markdown",
   "metadata": {},
   "source": [
    "# Capstone Project: \n",
    "# Best Places to Travel & Eat in London for First-time Visitor"
   ]
  },
  {
   "cell_type": "markdown",
   "metadata": {},
   "source": [
    "## 1. Introduction "
   ]
  },
  {
   "cell_type": "markdown",
   "metadata": {},
   "source": [
    "London is one of the world hottest travel destinations with travellers from all over the world. With its famous landmarks and iconic sights, the number of attractions to visit can be overwhelming to the first-time visitors who are trying to make a travel plan. To find the best restaurants after visiting each attraction is another challenging task to achieve for first-time visitors.\n",
    "\n",
    "There are two parts of this project: firstly, is to decide the must-go attractions of London. The must-go appeals will be selected based on popular reviews. In this project, we use a foursquare user's (Gilson Missawa) detailed must-travel list in London as a reference. There are 136 attractions recommended in Gilson's list. We randomly chose 78 from the list (due to the limited requests we can get from Foursquare API as a free user). In the future, we can extend the possible destinations by adding and comparing the travel guidelines from different sources. In this project, we recommend the activity based on the current location of the visitor. Second, to find the best restaurant close to the must-go attractions. In the second step, we explore the area close to the previous activity venue and get the food venues within a radius of 100 metres. The food venues are clustered based on the rating, price tier, number of likes, and the location using k-means clustering. The restaurants belonging to the different clusters are marked on the map with different colours. We believe this will help the visitor to make a more comfortable choice to focus on a smaller number of options that have similar attributes.\n"
   ]
  },
  {
   "cell_type": "markdown",
   "metadata": {},
   "source": [
    "![title: City View at London - Photo by Dominika Gregušová from Pexels](./city-view-at-London.jpg)\n",
    "<p1><i><center>Figure 1. City View at London - Photo by Dominika Gregušová from Pexels</center></i></p1>"
   ]
  },
  {
   "cell_type": "markdown",
   "metadata": {},
   "source": [
    "## 2. Description of Data"
   ]
  },
  {
   "cell_type": "markdown",
   "metadata": {},
   "source": [
    "There are two sets of data used in this project:\n",
    "1. The data on recommended places to visit are obtained from a blog post: Gilson Missawa(March 14, 2017), <a href =\"https://foursquare.com/gmissawa/list/places-to-visit-in-london\"> Places to Travel in London</a>. The location-related information such as the latitude, longitude of the places recommended is extracted from Foursquare.\n",
    "2. The data on the restaurants are obtained from Foursquare, based on the previous location of the visitor. "
   ]
  },
  {
   "cell_type": "markdown",
   "metadata": {},
   "source": [
    "#### Data 1: recommended activities (top 10 rows)"
   ]
  },
  {
   "cell_type": "markdown",
   "metadata": {},
   "source": [
    "<img src=\"./figure/figure1.png\" alt = \"Drawing\" style=\"width: 800px;\" align=\"center\"/>"
   ]
  },
  {
   "cell_type": "markdown",
   "metadata": {},
   "source": [
    "#### Data 2: recommended food - an example if Ambassadors Theatre was just visited"
   ]
  },
  {
   "cell_type": "markdown",
   "metadata": {},
   "source": [
    "<img src=\"./figure/figure2.png\" alt = \"Drawing\" style=\"width: 800px;\" align=\"center\"/>"
   ]
  },
  {
   "cell_type": "markdown",
   "metadata": {},
   "source": [
    "## 3. Methodology"
   ]
  },
  {
   "cell_type": "markdown",
   "metadata": {},
   "source": [
    "A map is created based on data 1. The recommended places to visit are densly distributed in the centre of London."
   ]
  },
  {
   "cell_type": "markdown",
   "metadata": {},
   "source": [
    "The objective is to make a sequential recommendation for the first-time visitor. \n",
    "\n",
    "The first step is to recommend an activity venue based on the visitor's current location. In this project, we assume the starting point is a highly-rated hotel. The latitude and longitude of the current position are used as the starting point. Then we used the <a href=\"https://andrew.hedges.name/experiments/haversine/\">Haversine Formula</a> to calculate the distance between the hotel and all the places recommended to visit. By sorting the data frame by distance, the closest venue is advised. In our case, it is the Ambassadors Theatre. We can extract all the relevant information about this position from the Foursquare database, such as the rating, latitude, longitude, and descriptions. If the first recommended location is not of interest of the visitor, he/she can easily find the next closest recommended place to visit based on other criteria.\n",
    "\n",
    "The second step is based on the assumption that after visiting a place (activity), the visitor would like to find a restaurant to eat. There are many factors to consider to make a decision. And to simplify the process of reading reviews and searching maps, this project would like to provide a data-driven tool for making the recommendation. "
   ]
  },
  {
   "cell_type": "markdown",
   "metadata": {},
   "source": [
    "<img src=\"./figure/figure3.png\" style=\"width: 800px;\" align=\"center\"/>"
   ]
  },
  {
   "cell_type": "markdown",
   "metadata": {},
   "source": [
    "### 3.1. Distance-based recommendation of activity venue\n",
    "Firstly, we get the coordinates of the current locations. For example, we use a highly ranked holte with latitude and longitude: \n",
    "\n",
    "current_lat = 51.5168<br>\n",
    "current_log = 0.1360\n",
    "\n",
    "Secondly, we calculate the distance between current location with all the places recommended to visit, and here is the data frame sorted by distance is shown here. We used the most straightforward criteria to recommend the activity based on location. There are many different strategies can be adopted, such as calculating a weighted score taking into consideration of the rating, distance, number of likes, even the previous visited place of the visitor, to give a more customized recommendation."
   ]
  },
  {
   "cell_type": "markdown",
   "metadata": {},
   "source": [
    "<img src=\"./figure/figure4.png\" style=\"width: 800px;\" align=\"center\"/>"
   ]
  },
  {
   "cell_type": "markdown",
   "metadata": {},
   "source": [
    "### 3.2. Recommendation of restaurant based on the location of the previous activity"
   ]
  },
  {
   "cell_type": "markdown",
   "metadata": {},
   "source": [
    "There are two parts to recommend a food venue. \n",
    "Firstly, explore the current location (e.g. Ambassadors Theatre) and find all the food-related venues in a circle with a radius of 100 metres. Food-related sites are challenging to filter since the categories can be many different things, such as bars, bistros, coffee, restaurants etc. I found that the best way may be to use Foursquare API 'intent' to filter the entities. A list of food-related venues within 100m around Ambassadors Theatre is shown. \n",
    "\n"
   ]
  },
  {
   "cell_type": "markdown",
   "metadata": {},
   "source": [
    "<img src=\"./figure/figure5.png\" style=\"width: 800px;\" align=\"center\"/>"
   ]
  },
  {
   "cell_type": "markdown",
   "metadata": {},
   "source": [
    "The restaurants are already sorted by the distance from the current activity. We also want to take into consideration the ratings, price_tier, number of likes. Therefore, a k-means cluster is used. Categories can be encoded into an integer to do the clustering. The different clusters are highlighted in different colours, as shown in the map below."
   ]
  },
  {
   "cell_type": "markdown",
   "metadata": {},
   "source": [
    "<img src=\"./figure/figure6.png\" style=\"width: 800px;\" align=\"center\"/>"
   ]
  },
  {
   "cell_type": "markdown",
   "metadata": {},
   "source": [
    "## 4. Result & Discussion"
   ]
  },
  {
   "cell_type": "markdown",
   "metadata": {},
   "source": [
    "### 4.1. Normalization before clustering\n",
    "As shown in the clustering result, the restaurants are clustered based on the number of likes they have. The scale of this attribute is much different than the others. The good practice is to normalize the data before clustering."
   ]
  },
  {
   "cell_type": "markdown",
   "metadata": {},
   "source": [
    "<img src=\"./figure/figure7.png\" style=\"width: 800px;\" align=\"center\"/>"
   ]
  },
  {
   "cell_type": "markdown",
   "metadata": {},
   "source": [
    "As shown is the clustering result with normalization of the data frame. The Dishoom is still a cluster of itself, maybe due to the very high number of likes. After normalization, the price tier is given more weight in the clustering. All the price tier-one restaurants except for P.F.Chang's are all in the same cluster now. It seems that P.F.Chang's is clustered with the other restaurants that are slightly further away from the current location."
   ]
  },
  {
   "cell_type": "markdown",
   "metadata": {},
   "source": [
    "<img src=\"./figure/figure9.png\" align=\"centre\"/>"
   ]
  },
  {
   "cell_type": "markdown",
   "metadata": {},
   "source": [
    "### 4.2. Recommendation Strategy\n",
    "In this project, a relatively simple strategy is used. The recommendation is based on distance and the reviews of all other visitors in general. \n",
    "\n",
    "A better strategy can be an overall weighted score, considering the distance, price, ratings, and other factors. However, a rule-based recommendation strategy has a limitation. Based on the same rule, no matter how optimised the rule it is, different people will all get the same recommendations. The best recommendation we believe is a personalised recommendation. Many apps are making personalised recommendations, such as google map is able to recommend the nearby restaurants based on the current location. I don't know how many people are already living a life that follows the recommendation given by the apps. I don't think there will be a lot. Most people are still more comfortable to plan where to go before embarking a journey. \n",
    "\n",
    "I can think of two reasons for this tendency. First is that recommendation is always a list of places. To choose from a list of recommendations is like to choose from all the options to me. I prefer a piece of single advice. It is like you heard from a friend \"You must try that restaurant!\" That is more persuasive than a list of recommendations. The second reason is the balance between risk and surprise. We want to recommend something wholly new, but you knew you would have a good time there. \n",
    "\n",
    "Therefore, I think that the recommendation is both predictive and straightforward. There will be only one recommendation given, and this recommendation is based on the experience of the visitor to suggest something new."
   ]
  },
  {
   "cell_type": "markdown",
   "metadata": {},
   "source": [
    "## 5. Conclusion\n",
    "In this project, we developed a sequential recommendation framework. London is an example. The objective is to help the first-time visitor to find a place to visit and then recommend a place to have lunch. The framework can be iterative with further development. By iterating the recommendation, the next place-to-visit can be recommended based on the restaurant the visitor has visited. To make it more flexible and hopefully more personalised, instead of using rule-based recommendation, we would like to incorporate data-driven recommendation. In this project, we demonstrate that a restaurant can be recommended based on k-means clustering result. The data taken into consideration is not limited to those used in this project (rating, number of likes, price, etc.). With more personalised data, we hope that this could be a personalised tour guide that tailored for each traveller."
   ]
  },
  {
   "cell_type": "code",
   "execution_count": null,
   "metadata": {
    "collapsed": true
   },
   "outputs": [],
   "source": []
  }
 ],
 "metadata": {
  "kernelspec": {
   "display_name": "Python 3",
   "language": "python",
   "name": "python3"
  },
  "language_info": {
   "codemirror_mode": {
    "name": "ipython",
    "version": 3
   },
   "file_extension": ".py",
   "mimetype": "text/x-python",
   "name": "python",
   "nbconvert_exporter": "python",
   "pygments_lexer": "ipython3",
   "version": "3.6.8"
  }
 },
 "nbformat": 4,
 "nbformat_minor": 2
}
